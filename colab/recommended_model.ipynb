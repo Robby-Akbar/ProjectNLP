{
  "nbformat": 4,
  "nbformat_minor": 0,
  "metadata": {
    "colab": {
      "name": "recommended_model.ipynb",
      "provenance": [],
      "authorship_tag": "ABX9TyM1phH/anaL4LUkCmoa0X4m",
      "include_colab_link": true
    },
    "kernelspec": {
      "name": "python3",
      "display_name": "Python 3"
    },
    "language_info": {
      "name": "python"
    }
  },
  "cells": [
    {
      "cell_type": "markdown",
      "metadata": {
        "id": "view-in-github",
        "colab_type": "text"
      },
      "source": [
        "<a href=\"https://colab.research.google.com/github/Robby-Akbar/ProjectNLP/blob/main/colab/recommended_model.ipynb\" target=\"_parent\"><img src=\"https://colab.research.google.com/assets/colab-badge.svg\" alt=\"Open In Colab\"/></a>"
      ]
    },
    {
      "cell_type": "code",
      "execution_count": 100,
      "metadata": {
        "id": "c5h1klar5coG"
      },
      "outputs": [],
      "source": [
        "import pandas as pd\n",
        "import ast\n",
        "import numpy as np\n",
        "\n",
        "import nltk\n",
        "from sklearn.feature_extraction.text import TfidfVectorizer\n",
        "from sklearn.metrics.pairwise import linear_kernel\n",
        "from sklearn.metrics.pairwise import cosine_similarity\n",
        "\n",
        "from sklearn.model_selection import train_test_split"
      ]
    },
    {
      "cell_type": "code",
      "source": [
        "#Load data from link\n",
        "url = 'https://raw.githubusercontent.com/Robby-Akbar/ProjectNLP/main/output/data/'\n",
        "dataset = pd.read_csv(url+\"dataset_mod.csv\")"
      ],
      "metadata": {
        "id": "GlfvhYNL5ha4"
      },
      "execution_count": 58,
      "outputs": []
    },
    {
      "cell_type": "code",
      "source": [
        "#format string genres to array\n",
        "dataset['genres'] = dataset['genres'].apply(lambda x: ast.literal_eval(x))\n",
        "#format string keywords to array\n",
        "dataset['keywords'] = dataset['keywords'].apply(lambda x: ast.literal_eval(x))\n",
        "#format string cast to array\n",
        "dataset['cast'] = dataset['cast'].apply(lambda x: ast.literal_eval(x))"
      ],
      "metadata": {
        "id": "FrLOxIH65jMo"
      },
      "execution_count": 59,
      "outputs": []
    },
    {
      "cell_type": "code",
      "source": [
        "dataset.head()"
      ],
      "metadata": {
        "colab": {
          "base_uri": "https://localhost:8080/",
          "height": 276
        },
        "id": "s49VJkr75lnu",
        "outputId": "032b705c-6d3c-40f7-9c2b-449abcf3c05a"
      },
      "execution_count": 60,
      "outputs": [
        {
          "output_type": "execute_result",
          "data": {
            "text/html": [
              "<div>\n",
              "<style scoped>\n",
              "    .dataframe tbody tr th:only-of-type {\n",
              "        vertical-align: middle;\n",
              "    }\n",
              "\n",
              "    .dataframe tbody tr th {\n",
              "        vertical-align: top;\n",
              "    }\n",
              "\n",
              "    .dataframe thead th {\n",
              "        text-align: right;\n",
              "    }\n",
              "</style>\n",
              "<table border=\"1\" class=\"dataframe\">\n",
              "  <thead>\n",
              "    <tr style=\"text-align: right;\">\n",
              "      <th></th>\n",
              "      <th>genres</th>\n",
              "      <th>id</th>\n",
              "      <th>original_title</th>\n",
              "      <th>overview</th>\n",
              "      <th>tagline</th>\n",
              "      <th>keywords</th>\n",
              "      <th>cast</th>\n",
              "      <th>director</th>\n",
              "    </tr>\n",
              "  </thead>\n",
              "  <tbody>\n",
              "    <tr>\n",
              "      <th>0</th>\n",
              "      <td>[Adventure, Fantasy, Family]</td>\n",
              "      <td>8844</td>\n",
              "      <td>Jumanji</td>\n",
              "      <td>siblings judy peter discover enchanted board g...</td>\n",
              "      <td>roll the dice and unleash the excitement!</td>\n",
              "      <td>[jealousy, toy, boy, friendship, friends, riva...</td>\n",
              "      <td>[Tom Hanks, Tim Allen, Don Rickles, Jim Varney...</td>\n",
              "      <td>John Lasseter</td>\n",
              "    </tr>\n",
              "    <tr>\n",
              "      <th>1</th>\n",
              "      <td>[Romance, Comedy]</td>\n",
              "      <td>15602</td>\n",
              "      <td>Grumpier Old Men</td>\n",
              "      <td>family wedding reignites ancient feud nextdoor...</td>\n",
              "      <td>still yelling. still fighting. still ready for...</td>\n",
              "      <td>[board game, disappearance, based on children'...</td>\n",
              "      <td>[Robin Williams, Jonathan Hyde, Kirsten Dunst,...</td>\n",
              "      <td>Joe Johnston</td>\n",
              "    </tr>\n",
              "    <tr>\n",
              "      <th>2</th>\n",
              "      <td>[Comedy, Drama, Romance]</td>\n",
              "      <td>31357</td>\n",
              "      <td>Waiting to Exhale</td>\n",
              "      <td>cheated on, mistreated stepped on, women holdi...</td>\n",
              "      <td>friends are the people who let you be yourself...</td>\n",
              "      <td>[fishing, best friend, duringcreditsstinger, o...</td>\n",
              "      <td>[Walter Matthau, Jack Lemmon, Ann-Margret, Sop...</td>\n",
              "      <td>Howard Deutch</td>\n",
              "    </tr>\n",
              "    <tr>\n",
              "      <th>3</th>\n",
              "      <td>[Comedy]</td>\n",
              "      <td>11862</td>\n",
              "      <td>Father of the Bride Part II</td>\n",
              "      <td>george banks recovered daughter's wedding, rec...</td>\n",
              "      <td>just when his world is back to normal... he is...</td>\n",
              "      <td>[based on novel, interracial relationship, sin...</td>\n",
              "      <td>[Whitney Houston, Angela Bassett, Loretta Devi...</td>\n",
              "      <td>Forest Whitaker</td>\n",
              "    </tr>\n",
              "    <tr>\n",
              "      <th>4</th>\n",
              "      <td>[Action, Crime, Drama, Thriller]</td>\n",
              "      <td>949</td>\n",
              "      <td>Heat</td>\n",
              "      <td>obsessive master thief, neil mccauley leads to...</td>\n",
              "      <td>a los angeles crime saga</td>\n",
              "      <td>[baby, midlife crisis, confidence, aging, daug...</td>\n",
              "      <td>[Steve Martin, Diane Keaton, Martin Short, Kim...</td>\n",
              "      <td>Charles Shyer</td>\n",
              "    </tr>\n",
              "  </tbody>\n",
              "</table>\n",
              "</div>"
            ],
            "text/plain": [
              "                             genres  ...         director\n",
              "0      [Adventure, Fantasy, Family]  ...    John Lasseter\n",
              "1                 [Romance, Comedy]  ...     Joe Johnston\n",
              "2          [Comedy, Drama, Romance]  ...    Howard Deutch\n",
              "3                          [Comedy]  ...  Forest Whitaker\n",
              "4  [Action, Crime, Drama, Thriller]  ...    Charles Shyer\n",
              "\n",
              "[5 rows x 8 columns]"
            ]
          },
          "metadata": {},
          "execution_count": 60
        }
      ]
    },
    {
      "cell_type": "code",
      "source": [
        "#mengecek kembali tidak ada data yang NaN, lalu dibuang\n",
        "dataset.dropna(inplace=True)\n",
        "dataset.isnull().sum()"
      ],
      "metadata": {
        "colab": {
          "base_uri": "https://localhost:8080/"
        },
        "id": "clLowium-j74",
        "outputId": "d7e88374-12d0-45de-9242-ceb86908a647"
      },
      "execution_count": 61,
      "outputs": [
        {
          "output_type": "execute_result",
          "data": {
            "text/plain": [
              "genres            0\n",
              "id                0\n",
              "original_title    0\n",
              "overview          0\n",
              "tagline           0\n",
              "keywords          0\n",
              "cast              0\n",
              "director          0\n",
              "dtype: int64"
            ]
          },
          "metadata": {},
          "execution_count": 61
        }
      ]
    },
    {
      "cell_type": "code",
      "source": [
        "dataset['overview'] = dataset['overview'].apply(lambda x:x.split())\n",
        "dataset['tagline'] = dataset['tagline'].apply(lambda x:x.split())"
      ],
      "metadata": {
        "id": "xb1FXSsh8_6u"
      },
      "execution_count": 62,
      "outputs": []
    },
    {
      "cell_type": "code",
      "source": [
        "# Combine all features into new column\n",
        "dataset['features'] = dataset['overview'] + dataset['genres'] + dataset['tagline'] + dataset['keywords'] + dataset['cast']\n",
        "dataset['features'] = dataset['features'].apply(lambda x: \" \".join(x))\n",
        "dataset['features'] = dataset['features'] + ' ' + dataset['director']\n",
        "dataset['features'].head()"
      ],
      "metadata": {
        "colab": {
          "base_uri": "https://localhost:8080/"
        },
        "id": "xPHMWY6JCV4m",
        "outputId": "3e529281-c561-457d-cce2-e19642d23243"
      },
      "execution_count": 63,
      "outputs": [
        {
          "output_type": "execute_result",
          "data": {
            "text/plain": [
              "0    siblings judy peter discover enchanted board g...\n",
              "1    family wedding reignites ancient feud nextdoor...\n",
              "2    cheated on, mistreated stepped on, women holdi...\n",
              "3    george banks recovered daughter's wedding, rec...\n",
              "4    obsessive master thief, neil mccauley leads to...\n",
              "Name: features, dtype: object"
            ]
          },
          "metadata": {},
          "execution_count": 63
        }
      ]
    },
    {
      "cell_type": "code",
      "source": [
        "print(dataset['features'][0])"
      ],
      "metadata": {
        "colab": {
          "base_uri": "https://localhost:8080/"
        },
        "id": "eIPsLd6yFSBX",
        "outputId": "9c2cf607-904d-4c85-8892-97fd96293e57"
      },
      "execution_count": 64,
      "outputs": [
        {
          "output_type": "stream",
          "name": "stdout",
          "text": [
            "siblings judy peter discover enchanted board game opens door magical world, unwittingly invite alan adult trapped inside game 26 years living room. alan's hope freedom finish game, proves risky three find running giant rhinoceroses, evil monkeys terrifying creatures. Adventure Fantasy Family roll the dice and unleash the excitement! jealousy toy boy friendship friends rivalry boy next door new toy toy comes to life Tom Hanks Tim Allen Don Rickles Jim Varney Wallace Shawn John Ratzenberger Annie Potts John Morris Erik von Detten Laurie Metcalf R. Lee Ermey Sarah Freeman Penn Jillette John Lasseter\n"
          ]
        }
      ]
    },
    {
      "cell_type": "code",
      "source": [
        "train, test = train_test_split(dataset, test_size=0.2)\n",
        "train, val = train_test_split(train, test_size=0.1)"
      ],
      "metadata": {
        "id": "fzrn_A60X0tB"
      },
      "execution_count": 66,
      "outputs": []
    },
    {
      "cell_type": "code",
      "source": [
        "# Vektorisasi dokumen dengan TF-IDF\n",
        "vektorisasi = TfidfVectorizer(max_features=10000, ngram_range=(1,3), max_df=0.7, smooth_idf=True, use_idf=True, sublinear_tf=True)\n",
        "\n",
        "# Hitung fitur\n",
        "X = vektorisasi.fit_transform(dataset['features']).toarray()"
      ],
      "metadata": {
        "id": "XKDvU1yKKgZm"
      },
      "execution_count": 23,
      "outputs": []
    },
    {
      "cell_type": "code",
      "source": [
        "X.shape"
      ],
      "metadata": {
        "colab": {
          "base_uri": "https://localhost:8080/"
        },
        "id": "f60pbHdFKwSO",
        "outputId": "0aeeca83-5f7e-4391-dc6f-98143ddc12c9"
      },
      "execution_count": 24,
      "outputs": [
        {
          "output_type": "execute_result",
          "data": {
            "text/plain": [
              "(19943, 10000)"
            ]
          },
          "metadata": {},
          "execution_count": 24
        }
      ]
    },
    {
      "cell_type": "code",
      "source": [
        "# Tfidf gives normalized vectors, linear_kernel will give the same result as cosine_similarity\n",
        "# linear_kernel is computationally faster\n",
        "similarity = linear_kernel(X, X)"
      ],
      "metadata": {
        "id": "eWoIrPV7Qd8K"
      },
      "execution_count": 29,
      "outputs": []
    },
    {
      "cell_type": "code",
      "source": [
        "movies_indices = dataset.reset_index()\n",
        "titles = movies_indices['original_title']\n",
        "indices = pd.Series(movies_indices.index, index=movies_indices['original_title'])"
      ],
      "metadata": {
        "id": "wDMPzxJyNmqn"
      },
      "execution_count": 25,
      "outputs": []
    },
    {
      "cell_type": "code",
      "source": [
        "def get_recommendations(title):\n",
        "    index = indices[title]\n",
        "    score = list(enumerate(similarity[index]))\n",
        "    score = sorted(score, key=lambda x: x[1], reverse=True)\n",
        "    movies_indices = [i[0] for i in score]\n",
        "    return titles.iloc[movies_indices[1:11]]"
      ],
      "metadata": {
        "id": "IeKiybCMPBXo"
      },
      "execution_count": 30,
      "outputs": []
    },
    {
      "cell_type": "code",
      "source": [
        "get_recommendations('The Dark Knight')"
      ],
      "metadata": {
        "colab": {
          "base_uri": "https://localhost:8080/"
        },
        "id": "h0c0_csdPGSw",
        "outputId": "345cc763-0fab-4189-e82d-bea563618209"
      },
      "execution_count": 31,
      "outputs": [
        {
          "output_type": "execute_result",
          "data": {
            "text/plain": [
              "10847         The Dark Knight Rises\n",
              "110                  Batman Forever\n",
              "972                  Batman Returns\n",
              "12696              Reasonable Doubt\n",
              "12415                   Just Wright\n",
              "9134            Law Abiding Citizen\n",
              "9676     Batman: Under the Red Hood\n",
              "13007                       Tokarev\n",
              "3213                      The Score\n",
              "15108       Kidnapping Mr. Heineken\n",
              "Name: original_title, dtype: object"
            ]
          },
          "metadata": {},
          "execution_count": 31
        }
      ]
    },
    {
      "cell_type": "code",
      "source": [
        "get_recommendations('Star Trek')"
      ],
      "metadata": {
        "colab": {
          "base_uri": "https://localhost:8080/"
        },
        "id": "Jdvp_lN-Rd3-",
        "outputId": "23c95227-dbef-4783-df7e-1a81ddbb5bb3"
      },
      "execution_count": 56,
      "outputs": [
        {
          "output_type": "execute_result",
          "data": {
            "text/plain": [
              "12361           Scanners III: The Takeover\n",
              "971          Star Trek IV: The Voyage Home\n",
              "15978                      Robot Overlords\n",
              "12849                   Threads of Destiny\n",
              "19734    Recon 2020:  The Caprini Massacre\n",
              "1332                        Small Soldiers\n",
              "12205                              Riddick\n",
              "2468          Teenage Mutant Ninja Turtles\n",
              "7023                        In Old Chicago\n",
              "14054                   Terminator Genisys\n",
              "Name: original_title, dtype: object"
            ]
          },
          "metadata": {},
          "execution_count": 56
        }
      ]
    },
    {
      "cell_type": "code",
      "source": [
        "tfidf_vectorizer = TfidfVectorizer(\n",
        "    min_df=5, max_features=16000, strip_accents='unicode', lowercase=True,\n",
        "    analyzer='word', token_pattern=r'\\w+', ngram_range=(1, 3), use_idf=True, \n",
        "    smooth_idf=True, sublinear_tf=True, stop_words = 'english'\n",
        ")"
      ],
      "metadata": {
        "id": "ZzXCpLyxYAHR"
      },
      "execution_count": 67,
      "outputs": []
    },
    {
      "cell_type": "code",
      "source": [
        "tfidf_vectorizer.fit(train['features'])"
      ],
      "metadata": {
        "colab": {
          "base_uri": "https://localhost:8080/"
        },
        "id": "s7QuL4RVYKPL",
        "outputId": "a58536ae-87da-43e4-acd3-73e0e7935316"
      },
      "execution_count": 68,
      "outputs": [
        {
          "output_type": "execute_result",
          "data": {
            "text/plain": [
              "TfidfVectorizer(max_features=16000, min_df=5, ngram_range=(1, 3),\n",
              "                stop_words='english', strip_accents='unicode',\n",
              "                sublinear_tf=True, token_pattern='\\\\w+')"
            ]
          },
          "metadata": {},
          "execution_count": 68
        }
      ]
    },
    {
      "cell_type": "code",
      "source": [
        "from sklearn.linear_model import LogisticRegression\n",
        "from sklearn import svm\n",
        "from sklearn.naive_bayes import MultinomialNB\n",
        "from sklearn.ensemble import AdaBoostClassifier\n",
        "from xgboost import XGBClassifier\n",
        "from sklearn.model_selection import cross_val_predict\n",
        "from sklearn.model_selection import StratifiedKFold\n",
        "from sklearn.model_selection import train_test_split\n",
        "from sklearn.metrics import log_loss, accuracy_score"
      ],
      "metadata": {
        "id": "L7_AK2nWYjDE"
      },
      "execution_count": 69,
      "outputs": []
    },
    {
      "cell_type": "code",
      "source": [
        "X_train_tfidfmatrix = tfidf_vectorizer.transform(train['features'].values)\n",
        "X_test_tfidfmatrix = tfidf_vectorizer.transform(test['features'].values)\n",
        "\n",
        "y_train = train['genres'].values"
      ],
      "metadata": {
        "id": "0VROFAokYo_v"
      },
      "execution_count": 91,
      "outputs": []
    },
    {
      "cell_type": "markdown",
      "source": [
        "##Evaluation"
      ],
      "metadata": {
        "id": "dvxt-uXolYX3"
      }
    },
    {
      "cell_type": "code",
      "source": [
        "def evaluate(X, y, clf=None):\n",
        "    probas = cross_val_predict(clf, X, y, cv=StratifiedKFold(n_splits=5, random_state=8), \n",
        "                              n_jobs=-1, method='predict_proba', verbose=2)\n",
        "    pred_indices = np.argmax(probas, axis=1)\n",
        "    classes = np.unique(y)\n",
        "    preds = classes[pred_indices]\n",
        "    print('Log loss: {}'.format(log_loss(y, probas)))\n",
        "    print('Accuracy: {}'.format(accuracy_score(y, preds)))"
      ],
      "metadata": {
        "id": "jG4Wwz-fY01t"
      },
      "execution_count": 94,
      "outputs": []
    },
    {
      "cell_type": "code",
      "source": [
        "evaluate(X_train_tfidfmatrix, y_train, clf=XGBClassifier())"
      ],
      "metadata": {
        "colab": {
          "base_uri": "https://localhost:8080/"
        },
        "id": "hfP1HMC2Y4C8",
        "outputId": "1cbff614-fc8c-4548-e1cf-297ec69b0d1a"
      },
      "execution_count": 95,
      "outputs": [
        {
          "output_type": "stream",
          "name": "stderr",
          "text": [
            "[Parallel(n_jobs=-1)]: Using backend LokyBackend with 2 concurrent workers.\n",
            "[Parallel(n_jobs=-1)]: Done   5 out of   5 | elapsed: 10.8min remaining:    0.0s\n",
            "[Parallel(n_jobs=-1)]: Done   5 out of   5 | elapsed: 10.8min finished\n"
          ]
        },
        {
          "output_type": "stream",
          "name": "stdout",
          "text": [
            "Log loss: 0.2407210799783047\n",
            "Accuracy: 0.9295862933556206\n"
          ]
        }
      ]
    },
    {
      "cell_type": "code",
      "source": [
        "evaluate(X_train_tfidfmatrix, y_train, clf=LogisticRegression())"
      ],
      "metadata": {
        "colab": {
          "base_uri": "https://localhost:8080/"
        },
        "id": "NksYRClRlS8h",
        "outputId": "08a85629-2c53-44d0-f2f4-7c14122ecbd1"
      },
      "execution_count": 96,
      "outputs": [
        {
          "output_type": "stream",
          "name": "stderr",
          "text": [
            "[Parallel(n_jobs=-1)]: Using backend LokyBackend with 2 concurrent workers.\n",
            "[Parallel(n_jobs=-1)]: Done   5 out of   5 | elapsed:  1.0min remaining:    0.0s\n",
            "[Parallel(n_jobs=-1)]: Done   5 out of   5 | elapsed:  1.0min finished\n"
          ]
        },
        {
          "output_type": "stream",
          "name": "stdout",
          "text": [
            "Log loss: 1.0803729327237264\n",
            "Accuracy: 0.7459256163811115\n"
          ]
        }
      ]
    },
    {
      "cell_type": "code",
      "source": [
        "evaluate(X_train_tfidfmatrix, y_train, clf=AdaBoostClassifier())"
      ],
      "metadata": {
        "colab": {
          "base_uri": "https://localhost:8080/"
        },
        "id": "jlEjCGSilXDx",
        "outputId": "06972154-732f-4715-d63e-3d88359c7b6c"
      },
      "execution_count": 97,
      "outputs": [
        {
          "output_type": "stream",
          "name": "stderr",
          "text": [
            "[Parallel(n_jobs=-1)]: Using backend LokyBackend with 2 concurrent workers.\n",
            "[Parallel(n_jobs=-1)]: Done   5 out of   5 | elapsed:   36.1s remaining:    0.0s\n",
            "[Parallel(n_jobs=-1)]: Done   5 out of   5 | elapsed:   36.1s finished\n"
          ]
        },
        {
          "output_type": "stream",
          "name": "stdout",
          "text": [
            "Log loss: 2.8603300106938545\n",
            "Accuracy: 0.3448948321493244\n"
          ]
        }
      ]
    },
    {
      "cell_type": "code",
      "source": [
        "evaluate(X_train_tfidfmatrix, y_train, clf=MultinomialNB())"
      ],
      "metadata": {
        "colab": {
          "base_uri": "https://localhost:8080/"
        },
        "id": "GvXhYouflodS",
        "outputId": "42de2302-2ab6-4877-ab00-e8ebf7c93155"
      },
      "execution_count": 98,
      "outputs": [
        {
          "output_type": "stream",
          "name": "stderr",
          "text": [
            "[Parallel(n_jobs=-1)]: Using backend LokyBackend with 2 concurrent workers.\n",
            "[Parallel(n_jobs=-1)]: Done   5 out of   5 | elapsed:    0.4s remaining:    0.0s\n",
            "[Parallel(n_jobs=-1)]: Done   5 out of   5 | elapsed:    0.4s finished\n"
          ]
        },
        {
          "output_type": "stream",
          "name": "stdout",
          "text": [
            "Log loss: 2.066193130352132\n",
            "Accuracy: 0.44372475275107953\n"
          ]
        }
      ]
    },
    {
      "cell_type": "code",
      "source": [
        "evaluate(X_train_tfidfmatrix, y_train, clf=svm.SVC(probability=True))"
      ],
      "metadata": {
        "colab": {
          "base_uri": "https://localhost:8080/"
        },
        "id": "MSkc3rGxlpUu",
        "outputId": "5ff1a5a9-df0f-4caf-a52e-803990c36257"
      },
      "execution_count": 99,
      "outputs": [
        {
          "output_type": "stream",
          "name": "stderr",
          "text": [
            "[Parallel(n_jobs=-1)]: Using backend LokyBackend with 2 concurrent workers.\n",
            "[Parallel(n_jobs=-1)]: Done   5 out of   5 | elapsed: 106.1min remaining:    0.0s\n",
            "[Parallel(n_jobs=-1)]: Done   5 out of   5 | elapsed: 106.1min finished\n"
          ]
        },
        {
          "output_type": "stream",
          "name": "stdout",
          "text": [
            "Log loss: 0.5402945859776884\n",
            "Accuracy: 0.8331940381668757\n"
          ]
        }
      ]
    },
    {
      "cell_type": "markdown",
      "source": [
        "##Training"
      ],
      "metadata": {
        "id": "tyuN_OhTlzTf"
      }
    },
    {
      "cell_type": "code",
      "source": [
        "clf = XGBClassifier()\n",
        "clf.fit(X_train_tfidfmatrix, y_train)"
      ],
      "metadata": {
        "colab": {
          "base_uri": "https://localhost:8080/"
        },
        "id": "2QJijovJluI_",
        "outputId": "d8116f31-7ad7-4251-95b4-aff70f85dbce"
      },
      "execution_count": 101,
      "outputs": [
        {
          "output_type": "execute_result",
          "data": {
            "text/plain": [
              "XGBClassifier(objective='multi:softprob')"
            ]
          },
          "metadata": {},
          "execution_count": 101
        }
      ]
    },
    {
      "cell_type": "code",
      "source": [
        "y_test_predicted = clf.predict_proba(X_test_tfidfmatrix)"
      ],
      "metadata": {
        "id": "uPW81I1V-RrS"
      },
      "execution_count": 102,
      "outputs": []
    },
    {
      "cell_type": "code",
      "source": [
        "y_test_predicted.shape"
      ],
      "metadata": {
        "colab": {
          "base_uri": "https://localhost:8080/"
        },
        "id": "NFg6wN4N_S3b",
        "outputId": "f58ad0fb-d0dd-450b-8469-e50312f5ff8f"
      },
      "execution_count": 104,
      "outputs": [
        {
          "output_type": "execute_result",
          "data": {
            "text/plain": [
              "(3989, 20)"
            ]
          },
          "metadata": {},
          "execution_count": 104
        }
      ]
    }
  ]
}