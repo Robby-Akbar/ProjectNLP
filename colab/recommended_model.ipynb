{
  "nbformat": 4,
  "nbformat_minor": 0,
  "metadata": {
    "colab": {
      "name": "recommended_model.ipynb",
      "provenance": [],
      "collapsed_sections": [
        "4tv0-9nEPdKi",
        "GpaVY_AjTB5C",
        "XJNMmRHaTIb_",
        "1MZCB_lQTfy1",
        "P1olscR5T0h2",
        "B3dn3atSULck"
      ],
      "include_colab_link": true
    },
    "kernelspec": {
      "name": "python3",
      "display_name": "Python 3"
    },
    "language_info": {
      "name": "python"
    }
  },
  "cells": [
    {
      "cell_type": "markdown",
      "metadata": {
        "id": "view-in-github",
        "colab_type": "text"
      },
      "source": [
        "<a href=\"https://colab.research.google.com/github/Robby-Akbar/ProjectNLP/blob/main/colab/recommended_model.ipynb\" target=\"_parent\"><img src=\"https://colab.research.google.com/assets/colab-badge.svg\" alt=\"Open In Colab\"/></a>"
      ]
    },
    {
      "cell_type": "markdown",
      "source": [
        "#Movie Recommendation with TFIDF"
      ],
      "metadata": {
        "id": "TQo1jneFLNV_"
      }
    },
    {
      "cell_type": "code",
      "execution_count": 11,
      "metadata": {
        "id": "c5h1klar5coG"
      },
      "outputs": [],
      "source": [
        "import pandas as pd\n",
        "import ast\n",
        "import numpy as np\n",
        "\n",
        "import nltk\n",
        "from sklearn.feature_extraction.text import TfidfVectorizer\n",
        "from sklearn.metrics.pairwise import linear_kernel"
      ]
    },
    {
      "cell_type": "markdown",
      "source": [
        "##Prepare Data"
      ],
      "metadata": {
        "id": "waJDdHMPLafA"
      }
    },
    {
      "cell_type": "code",
      "source": [
        "#Load data from link\n",
        "url = 'https://raw.githubusercontent.com/Robby-Akbar/ProjectNLP/main/output/data/'\n",
        "dataset = pd.read_csv(url+\"dataset_mod.csv\")"
      ],
      "metadata": {
        "id": "GlfvhYNL5ha4"
      },
      "execution_count": 2,
      "outputs": []
    },
    {
      "cell_type": "code",
      "source": [
        "#format string genres to array\n",
        "dataset['genres'] = dataset['genres'].apply(lambda x: ast.literal_eval(x))\n",
        "#format string keywords to array\n",
        "dataset['keywords'] = dataset['keywords'].apply(lambda x: ast.literal_eval(x))\n",
        "#format string cast to array\n",
        "dataset['cast'] = dataset['cast'].apply(lambda x: ast.literal_eval(x))"
      ],
      "metadata": {
        "id": "FrLOxIH65jMo"
      },
      "execution_count": 3,
      "outputs": []
    },
    {
      "cell_type": "code",
      "source": [
        "dataset.head()"
      ],
      "metadata": {
        "colab": {
          "base_uri": "https://localhost:8080/",
          "height": 293
        },
        "id": "s49VJkr75lnu",
        "outputId": "f79d1734-b1a7-4bb9-f51f-630a8413f621"
      },
      "execution_count": 4,
      "outputs": [
        {
          "output_type": "execute_result",
          "data": {
            "text/html": [
              "<div>\n",
              "<style scoped>\n",
              "    .dataframe tbody tr th:only-of-type {\n",
              "        vertical-align: middle;\n",
              "    }\n",
              "\n",
              "    .dataframe tbody tr th {\n",
              "        vertical-align: top;\n",
              "    }\n",
              "\n",
              "    .dataframe thead th {\n",
              "        text-align: right;\n",
              "    }\n",
              "</style>\n",
              "<table border=\"1\" class=\"dataframe\">\n",
              "  <thead>\n",
              "    <tr style=\"text-align: right;\">\n",
              "      <th></th>\n",
              "      <th>genres</th>\n",
              "      <th>id</th>\n",
              "      <th>original_title</th>\n",
              "      <th>overview</th>\n",
              "      <th>tagline</th>\n",
              "      <th>keywords</th>\n",
              "      <th>cast</th>\n",
              "      <th>director</th>\n",
              "    </tr>\n",
              "  </thead>\n",
              "  <tbody>\n",
              "    <tr>\n",
              "      <th>0</th>\n",
              "      <td>[Adventure, Fantasy, Family]</td>\n",
              "      <td>8844</td>\n",
              "      <td>Jumanji</td>\n",
              "      <td>siblings judy peter discover enchanted board g...</td>\n",
              "      <td>roll the dice and unleash the excitement!</td>\n",
              "      <td>[jealousy, toy, boy, friendship, friends, riva...</td>\n",
              "      <td>[Tom Hanks, Tim Allen, Don Rickles, Jim Varney...</td>\n",
              "      <td>John Lasseter</td>\n",
              "    </tr>\n",
              "    <tr>\n",
              "      <th>1</th>\n",
              "      <td>[Romance, Comedy]</td>\n",
              "      <td>15602</td>\n",
              "      <td>Grumpier Old Men</td>\n",
              "      <td>family wedding reignites ancient feud nextdoor...</td>\n",
              "      <td>still yelling. still fighting. still ready for...</td>\n",
              "      <td>[board game, disappearance, based on children'...</td>\n",
              "      <td>[Robin Williams, Jonathan Hyde, Kirsten Dunst,...</td>\n",
              "      <td>Joe Johnston</td>\n",
              "    </tr>\n",
              "    <tr>\n",
              "      <th>2</th>\n",
              "      <td>[Comedy, Drama, Romance]</td>\n",
              "      <td>31357</td>\n",
              "      <td>Waiting to Exhale</td>\n",
              "      <td>cheated on, mistreated stepped on, women holdi...</td>\n",
              "      <td>friends are the people who let you be yourself...</td>\n",
              "      <td>[fishing, best friend, duringcreditsstinger, o...</td>\n",
              "      <td>[Walter Matthau, Jack Lemmon, Ann-Margret, Sop...</td>\n",
              "      <td>Howard Deutch</td>\n",
              "    </tr>\n",
              "    <tr>\n",
              "      <th>3</th>\n",
              "      <td>[Comedy]</td>\n",
              "      <td>11862</td>\n",
              "      <td>Father of the Bride Part II</td>\n",
              "      <td>george banks recovered daughter's wedding, rec...</td>\n",
              "      <td>just when his world is back to normal... he is...</td>\n",
              "      <td>[based on novel, interracial relationship, sin...</td>\n",
              "      <td>[Whitney Houston, Angela Bassett, Loretta Devi...</td>\n",
              "      <td>Forest Whitaker</td>\n",
              "    </tr>\n",
              "    <tr>\n",
              "      <th>4</th>\n",
              "      <td>[Action, Crime, Drama, Thriller]</td>\n",
              "      <td>949</td>\n",
              "      <td>Heat</td>\n",
              "      <td>obsessive master thief, neil mccauley leads to...</td>\n",
              "      <td>a los angeles crime saga</td>\n",
              "      <td>[baby, midlife crisis, confidence, aging, daug...</td>\n",
              "      <td>[Steve Martin, Diane Keaton, Martin Short, Kim...</td>\n",
              "      <td>Charles Shyer</td>\n",
              "    </tr>\n",
              "  </tbody>\n",
              "</table>\n",
              "</div>"
            ],
            "text/plain": [
              "                             genres  ...         director\n",
              "0      [Adventure, Fantasy, Family]  ...    John Lasseter\n",
              "1                 [Romance, Comedy]  ...     Joe Johnston\n",
              "2          [Comedy, Drama, Romance]  ...    Howard Deutch\n",
              "3                          [Comedy]  ...  Forest Whitaker\n",
              "4  [Action, Crime, Drama, Thriller]  ...    Charles Shyer\n",
              "\n",
              "[5 rows x 8 columns]"
            ]
          },
          "metadata": {},
          "execution_count": 4
        }
      ]
    },
    {
      "cell_type": "code",
      "source": [
        "#mengecek kembali tidak ada data yang NaN, lalu dibuang\n",
        "dataset.dropna(inplace=True)\n",
        "dataset.isnull().sum()"
      ],
      "metadata": {
        "colab": {
          "base_uri": "https://localhost:8080/"
        },
        "id": "clLowium-j74",
        "outputId": "b90c741e-becf-4ff0-cdd0-6d710fd94484"
      },
      "execution_count": 5,
      "outputs": [
        {
          "output_type": "execute_result",
          "data": {
            "text/plain": [
              "genres            0\n",
              "id                0\n",
              "original_title    0\n",
              "overview          0\n",
              "tagline           0\n",
              "keywords          0\n",
              "cast              0\n",
              "director          0\n",
              "dtype: int64"
            ]
          },
          "metadata": {},
          "execution_count": 5
        }
      ]
    },
    {
      "cell_type": "code",
      "source": [
        "#pecah kalimat menjadi sebuah list\n",
        "dataset['overview'] = dataset['overview'].apply(lambda x:x.split())\n",
        "dataset['tagline'] = dataset['tagline'].apply(lambda x:x.split())"
      ],
      "metadata": {
        "id": "xb1FXSsh8_6u"
      },
      "execution_count": 6,
      "outputs": []
    },
    {
      "cell_type": "code",
      "source": [
        "# Combine all features into new column\n",
        "dataset['features'] = dataset['overview'] + dataset['genres'] + dataset['tagline'] + dataset['keywords'] + dataset['cast']\n",
        "dataset['features'] = dataset['features'].apply(lambda x: \" \".join(x))\n",
        "dataset['features'] = dataset['features'] + ' ' + dataset['director']\n",
        "dataset['features'].head()"
      ],
      "metadata": {
        "colab": {
          "base_uri": "https://localhost:8080/"
        },
        "id": "xPHMWY6JCV4m",
        "outputId": "4258d5b8-c127-4d09-89a5-977dc5619c87"
      },
      "execution_count": 7,
      "outputs": [
        {
          "output_type": "execute_result",
          "data": {
            "text/plain": [
              "0    siblings judy peter discover enchanted board g...\n",
              "1    family wedding reignites ancient feud nextdoor...\n",
              "2    cheated on, mistreated stepped on, women holdi...\n",
              "3    george banks recovered daughter's wedding, rec...\n",
              "4    obsessive master thief, neil mccauley leads to...\n",
              "Name: features, dtype: object"
            ]
          },
          "metadata": {},
          "execution_count": 7
        }
      ]
    },
    {
      "cell_type": "code",
      "source": [
        "print(dataset['features'][0])"
      ],
      "metadata": {
        "colab": {
          "base_uri": "https://localhost:8080/"
        },
        "id": "eIPsLd6yFSBX",
        "outputId": "3ce81d77-de7f-4ce9-cdb6-7551b8eac95f"
      },
      "execution_count": 8,
      "outputs": [
        {
          "output_type": "stream",
          "name": "stdout",
          "text": [
            "siblings judy peter discover enchanted board game opens door magical world, unwittingly invite alan adult trapped inside game 26 years living room. alan's hope freedom finish game, proves risky three find running giant rhinoceroses, evil monkeys terrifying creatures. Adventure Fantasy Family roll the dice and unleash the excitement! jealousy toy boy friendship friends rivalry boy next door new toy toy comes to life Tom Hanks Tim Allen Don Rickles Jim Varney Wallace Shawn John Ratzenberger Annie Potts John Morris Erik von Detten Laurie Metcalf R. Lee Ermey Sarah Freeman Penn Jillette John Lasseter\n"
          ]
        }
      ]
    },
    {
      "cell_type": "markdown",
      "source": [
        "##Setting-Up TFIDF"
      ],
      "metadata": {
        "id": "yq2qXe7SMD9Q"
      }
    },
    {
      "cell_type": "code",
      "source": [
        "# Vektorisasi dokumen dengan TF-IDF\n",
        "tfidf_vectorizer = TfidfVectorizer(\n",
        "    min_df=5, max_features=16000, strip_accents='unicode', lowercase=True,\n",
        "    analyzer='word', token_pattern=r'\\w+', ngram_range=(1, 3), max_df=0.7, use_idf=True, \n",
        "    smooth_idf=True, sublinear_tf=True, stop_words = 'english'\n",
        ")\n",
        "\n",
        "# Hitung fitur\n",
        "tf_idf_matrix = tfidf_vectorizer.fit_transform(dataset['features'])"
      ],
      "metadata": {
        "id": "XKDvU1yKKgZm"
      },
      "execution_count": 9,
      "outputs": []
    },
    {
      "cell_type": "code",
      "source": [
        "import pickle\n",
        "pickle.dump(tf_idf_matrix, open(\"tf_idf_matrix.p\", \"wb\"))"
      ],
      "metadata": {
        "id": "Po0p_oPqHQkj"
      },
      "execution_count": 21,
      "outputs": []
    },
    {
      "cell_type": "code",
      "source": [
        "# Check the shape of the matrix\n",
        "tf_idf_matrix.shape"
      ],
      "metadata": {
        "colab": {
          "base_uri": "https://localhost:8080/"
        },
        "id": "UmhU3iGiWxst",
        "outputId": "0cb0bd39-629c-440f-ed73-8cb1abb938b0"
      },
      "execution_count": 10,
      "outputs": [
        {
          "output_type": "execute_result",
          "data": {
            "text/plain": [
              "(19943, 16000)"
            ]
          },
          "metadata": {},
          "execution_count": 10
        }
      ]
    },
    {
      "cell_type": "code",
      "source": [
        "# Tfidf gives normalized vectors, linear_kernel will give the same result as cosine_similarity\n",
        "# linear_kernel is computationally faster\n",
        "similarity = linear_kernel(tf_idf_matrix, tf_idf_matrix)"
      ],
      "metadata": {
        "id": "6BSuqMHej0XY"
      },
      "execution_count": 12,
      "outputs": []
    },
    {
      "cell_type": "code",
      "source": [
        "# Check the shape\n",
        "similarity.shape"
      ],
      "metadata": {
        "colab": {
          "base_uri": "https://localhost:8080/"
        },
        "id": "9fLPNBwoFeRG",
        "outputId": "07cdc3f1-7cf2-4203-819c-decc56d2f4cb"
      },
      "execution_count": 13,
      "outputs": [
        {
          "output_type": "execute_result",
          "data": {
            "text/plain": [
              "(19943, 19943)"
            ]
          },
          "metadata": {},
          "execution_count": 13
        }
      ]
    },
    {
      "cell_type": "markdown",
      "source": [
        "##Function Recommendation"
      ],
      "metadata": {
        "id": "s_7sqKyLUjrS"
      }
    },
    {
      "cell_type": "code",
      "source": [
        "movies_indices = dataset.reset_index()\n",
        "titles = movies_indices['original_title']\n",
        "indices = pd.Series(movies_indices.index, index=movies_indices['original_title'])"
      ],
      "metadata": {
        "id": "NIZeJv9nebO4"
      },
      "execution_count": 16,
      "outputs": []
    },
    {
      "cell_type": "code",
      "source": [
        "def get_recommendations(title):\n",
        "    index = indices[title]\n",
        "    score = list(enumerate(similarity[index]))\n",
        "    score = sorted(score, key=lambda x: x[1], reverse=True)\n",
        "    movies_indices = [i[0] for i in score]\n",
        "    return titles.iloc[movies_indices[1:11]]"
      ],
      "metadata": {
        "id": "QbMm3BFeG3Z5"
      },
      "execution_count": 17,
      "outputs": []
    },
    {
      "cell_type": "code",
      "source": [
        "get_recommendations(\"The Dark Knight\")"
      ],
      "metadata": {
        "colab": {
          "base_uri": "https://localhost:8080/"
        },
        "id": "hcXZehbbG-Tj",
        "outputId": "dac88a55-bcf9-4606-e407-49f759238914"
      },
      "execution_count": 19,
      "outputs": [
        {
          "output_type": "execute_result",
          "data": {
            "text/plain": [
              "10847      The Dark Knight Rises\n",
              "972               Batman Returns\n",
              "110               Batman Forever\n",
              "9134         Law Abiding Citizen\n",
              "13007                    Tokarev\n",
              "15108    Kidnapping Mr. Heineken\n",
              "17857             Space Tourists\n",
              "4700               Kaitei gunkan\n",
              "12696           Reasonable Doubt\n",
              "12415                Just Wright\n",
              "Name: original_title, dtype: object"
            ]
          },
          "metadata": {},
          "execution_count": 19
        }
      ]
    }
  ]
}