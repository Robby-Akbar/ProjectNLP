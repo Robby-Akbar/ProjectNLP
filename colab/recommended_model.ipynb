{
  "nbformat": 4,
  "nbformat_minor": 0,
  "metadata": {
    "colab": {
      "name": "recommended_model.ipynb",
      "provenance": [],
      "collapsed_sections": [
        "GpaVY_AjTB5C",
        "XJNMmRHaTIb_",
        "1MZCB_lQTfy1",
        "P1olscR5T0h2",
        "B3dn3atSULck"
      ],
      "include_colab_link": true
    },
    "kernelspec": {
      "name": "python3",
      "display_name": "Python 3"
    },
    "language_info": {
      "name": "python"
    }
  },
  "cells": [
    {
      "cell_type": "markdown",
      "metadata": {
        "id": "view-in-github",
        "colab_type": "text"
      },
      "source": [
        "<a href=\"https://colab.research.google.com/github/Robby-Akbar/ProjectNLP/blob/main/colab/recommended_model.ipynb\" target=\"_parent\"><img src=\"https://colab.research.google.com/assets/colab-badge.svg\" alt=\"Open In Colab\"/></a>"
      ]
    },
    {
      "cell_type": "markdown",
      "source": [
        "#Movie Recommendation with TFIDF"
      ],
      "metadata": {
        "id": "TQo1jneFLNV_"
      }
    },
    {
      "cell_type": "code",
      "execution_count": 1,
      "metadata": {
        "id": "c5h1klar5coG"
      },
      "outputs": [],
      "source": [
        "import pandas as pd\n",
        "import ast\n",
        "import numpy as np\n",
        "\n",
        "import nltk\n",
        "from sklearn.feature_extraction.text import TfidfVectorizer\n",
        "from sklearn.metrics.pairwise import linear_kernel\n",
        "from sklearn.metrics.pairwise import cosine_similarity\n",
        "\n",
        "from sklearn.model_selection import train_test_split"
      ]
    },
    {
      "cell_type": "markdown",
      "source": [
        "##Prepare Data"
      ],
      "metadata": {
        "id": "waJDdHMPLafA"
      }
    },
    {
      "cell_type": "code",
      "source": [
        "#Load data from link\n",
        "url = 'https://raw.githubusercontent.com/Robby-Akbar/ProjectNLP/main/output/data/'\n",
        "dataset = pd.read_csv(url+\"dataset_mod.csv\")"
      ],
      "metadata": {
        "id": "GlfvhYNL5ha4"
      },
      "execution_count": 2,
      "outputs": []
    },
    {
      "cell_type": "code",
      "source": [
        "#format string genres to array\n",
        "dataset['genres'] = dataset['genres'].apply(lambda x: ast.literal_eval(x))\n",
        "#format string keywords to array\n",
        "dataset['keywords'] = dataset['keywords'].apply(lambda x: ast.literal_eval(x))\n",
        "#format string cast to array\n",
        "dataset['cast'] = dataset['cast'].apply(lambda x: ast.literal_eval(x))"
      ],
      "metadata": {
        "id": "FrLOxIH65jMo"
      },
      "execution_count": 3,
      "outputs": []
    },
    {
      "cell_type": "code",
      "source": [
        "dataset.head()"
      ],
      "metadata": {
        "colab": {
          "base_uri": "https://localhost:8080/",
          "height": 293
        },
        "id": "s49VJkr75lnu",
        "outputId": "daebe1bb-b876-4db8-ea29-aa9e8378d30a"
      },
      "execution_count": 4,
      "outputs": [
        {
          "output_type": "execute_result",
          "data": {
            "text/html": [
              "<div>\n",
              "<style scoped>\n",
              "    .dataframe tbody tr th:only-of-type {\n",
              "        vertical-align: middle;\n",
              "    }\n",
              "\n",
              "    .dataframe tbody tr th {\n",
              "        vertical-align: top;\n",
              "    }\n",
              "\n",
              "    .dataframe thead th {\n",
              "        text-align: right;\n",
              "    }\n",
              "</style>\n",
              "<table border=\"1\" class=\"dataframe\">\n",
              "  <thead>\n",
              "    <tr style=\"text-align: right;\">\n",
              "      <th></th>\n",
              "      <th>genres</th>\n",
              "      <th>id</th>\n",
              "      <th>original_title</th>\n",
              "      <th>overview</th>\n",
              "      <th>tagline</th>\n",
              "      <th>keywords</th>\n",
              "      <th>cast</th>\n",
              "      <th>director</th>\n",
              "    </tr>\n",
              "  </thead>\n",
              "  <tbody>\n",
              "    <tr>\n",
              "      <th>0</th>\n",
              "      <td>[Adventure, Fantasy, Family]</td>\n",
              "      <td>8844</td>\n",
              "      <td>Jumanji</td>\n",
              "      <td>siblings judy peter discover enchanted board g...</td>\n",
              "      <td>roll the dice and unleash the excitement!</td>\n",
              "      <td>[jealousy, toy, boy, friendship, friends, riva...</td>\n",
              "      <td>[Tom Hanks, Tim Allen, Don Rickles, Jim Varney...</td>\n",
              "      <td>John Lasseter</td>\n",
              "    </tr>\n",
              "    <tr>\n",
              "      <th>1</th>\n",
              "      <td>[Romance, Comedy]</td>\n",
              "      <td>15602</td>\n",
              "      <td>Grumpier Old Men</td>\n",
              "      <td>family wedding reignites ancient feud nextdoor...</td>\n",
              "      <td>still yelling. still fighting. still ready for...</td>\n",
              "      <td>[board game, disappearance, based on children'...</td>\n",
              "      <td>[Robin Williams, Jonathan Hyde, Kirsten Dunst,...</td>\n",
              "      <td>Joe Johnston</td>\n",
              "    </tr>\n",
              "    <tr>\n",
              "      <th>2</th>\n",
              "      <td>[Comedy, Drama, Romance]</td>\n",
              "      <td>31357</td>\n",
              "      <td>Waiting to Exhale</td>\n",
              "      <td>cheated on, mistreated stepped on, women holdi...</td>\n",
              "      <td>friends are the people who let you be yourself...</td>\n",
              "      <td>[fishing, best friend, duringcreditsstinger, o...</td>\n",
              "      <td>[Walter Matthau, Jack Lemmon, Ann-Margret, Sop...</td>\n",
              "      <td>Howard Deutch</td>\n",
              "    </tr>\n",
              "    <tr>\n",
              "      <th>3</th>\n",
              "      <td>[Comedy]</td>\n",
              "      <td>11862</td>\n",
              "      <td>Father of the Bride Part II</td>\n",
              "      <td>george banks recovered daughter's wedding, rec...</td>\n",
              "      <td>just when his world is back to normal... he is...</td>\n",
              "      <td>[based on novel, interracial relationship, sin...</td>\n",
              "      <td>[Whitney Houston, Angela Bassett, Loretta Devi...</td>\n",
              "      <td>Forest Whitaker</td>\n",
              "    </tr>\n",
              "    <tr>\n",
              "      <th>4</th>\n",
              "      <td>[Action, Crime, Drama, Thriller]</td>\n",
              "      <td>949</td>\n",
              "      <td>Heat</td>\n",
              "      <td>obsessive master thief, neil mccauley leads to...</td>\n",
              "      <td>a los angeles crime saga</td>\n",
              "      <td>[baby, midlife crisis, confidence, aging, daug...</td>\n",
              "      <td>[Steve Martin, Diane Keaton, Martin Short, Kim...</td>\n",
              "      <td>Charles Shyer</td>\n",
              "    </tr>\n",
              "  </tbody>\n",
              "</table>\n",
              "</div>"
            ],
            "text/plain": [
              "                             genres  ...         director\n",
              "0      [Adventure, Fantasy, Family]  ...    John Lasseter\n",
              "1                 [Romance, Comedy]  ...     Joe Johnston\n",
              "2          [Comedy, Drama, Romance]  ...    Howard Deutch\n",
              "3                          [Comedy]  ...  Forest Whitaker\n",
              "4  [Action, Crime, Drama, Thriller]  ...    Charles Shyer\n",
              "\n",
              "[5 rows x 8 columns]"
            ]
          },
          "metadata": {},
          "execution_count": 4
        }
      ]
    },
    {
      "cell_type": "code",
      "source": [
        "#mengecek kembali tidak ada data yang NaN, lalu dibuang\n",
        "dataset.dropna(inplace=True)\n",
        "dataset.isnull().sum()"
      ],
      "metadata": {
        "colab": {
          "base_uri": "https://localhost:8080/"
        },
        "id": "clLowium-j74",
        "outputId": "2187ad94-a450-420a-e487-e3236eb2da66"
      },
      "execution_count": 5,
      "outputs": [
        {
          "output_type": "execute_result",
          "data": {
            "text/plain": [
              "genres            0\n",
              "id                0\n",
              "original_title    0\n",
              "overview          0\n",
              "tagline           0\n",
              "keywords          0\n",
              "cast              0\n",
              "director          0\n",
              "dtype: int64"
            ]
          },
          "metadata": {},
          "execution_count": 5
        }
      ]
    },
    {
      "cell_type": "code",
      "source": [
        "#pecah kalimat menjadi sebuah list\n",
        "dataset['overview'] = dataset['overview'].apply(lambda x:x.split())\n",
        "dataset['tagline'] = dataset['tagline'].apply(lambda x:x.split())"
      ],
      "metadata": {
        "id": "xb1FXSsh8_6u"
      },
      "execution_count": 6,
      "outputs": []
    },
    {
      "cell_type": "code",
      "source": [
        "# Combine all features into new column\n",
        "dataset['features'] = dataset['overview'] + dataset['genres'] + dataset['tagline'] + dataset['keywords'] + dataset['cast']\n",
        "dataset['features'] = dataset['features'].apply(lambda x: \" \".join(x))\n",
        "dataset['features'] = dataset['features'] + ' ' + dataset['director']\n",
        "dataset['features'].head()"
      ],
      "metadata": {
        "colab": {
          "base_uri": "https://localhost:8080/"
        },
        "id": "xPHMWY6JCV4m",
        "outputId": "90398296-7ae2-4f90-f3e1-e55569b5043e"
      },
      "execution_count": 7,
      "outputs": [
        {
          "output_type": "execute_result",
          "data": {
            "text/plain": [
              "0    siblings judy peter discover enchanted board g...\n",
              "1    family wedding reignites ancient feud nextdoor...\n",
              "2    cheated on, mistreated stepped on, women holdi...\n",
              "3    george banks recovered daughter's wedding, rec...\n",
              "4    obsessive master thief, neil mccauley leads to...\n",
              "Name: features, dtype: object"
            ]
          },
          "metadata": {},
          "execution_count": 7
        }
      ]
    },
    {
      "cell_type": "code",
      "source": [
        "print(dataset['features'][0])"
      ],
      "metadata": {
        "colab": {
          "base_uri": "https://localhost:8080/"
        },
        "id": "eIPsLd6yFSBX",
        "outputId": "997d3162-72d7-4075-aeef-f80bbfa79dfa"
      },
      "execution_count": 8,
      "outputs": [
        {
          "output_type": "stream",
          "name": "stdout",
          "text": [
            "siblings judy peter discover enchanted board game opens door magical world, unwittingly invite alan adult trapped inside game 26 years living room. alan's hope freedom finish game, proves risky three find running giant rhinoceroses, evil monkeys terrifying creatures. Adventure Fantasy Family roll the dice and unleash the excitement! jealousy toy boy friendship friends rivalry boy next door new toy toy comes to life Tom Hanks Tim Allen Don Rickles Jim Varney Wallace Shawn John Ratzenberger Annie Potts John Morris Erik von Detten Laurie Metcalf R. Lee Ermey Sarah Freeman Penn Jillette John Lasseter\n"
          ]
        }
      ]
    },
    {
      "cell_type": "code",
      "source": [
        "train, test = train_test_split(dataset, test_size=0.2)\n",
        "train, val = train_test_split(train, test_size=0.1)"
      ],
      "metadata": {
        "id": "B0pmr9S44nqv"
      },
      "execution_count": 101,
      "outputs": []
    },
    {
      "cell_type": "markdown",
      "source": [
        "##Setting-Up TFIDF"
      ],
      "metadata": {
        "id": "yq2qXe7SMD9Q"
      }
    },
    {
      "cell_type": "code",
      "source": [
        "# Vektorisasi dokumen dengan TF-IDF\n",
        "tfidf_vectorizer = TfidfVectorizer(\n",
        "    min_df=5, max_features=16000, strip_accents='unicode', lowercase=True,\n",
        "    analyzer='word', token_pattern=r'\\w+', ngram_range=(1, 3), max_df=0.7, use_idf=True, \n",
        "    smooth_idf=True, sublinear_tf=True, stop_words = 'english'\n",
        ")\n",
        "\n",
        "# Hitung fitur\n",
        "tfidf_vectorizer.fit(dataset['features'])"
      ],
      "metadata": {
        "id": "XKDvU1yKKgZm",
        "colab": {
          "base_uri": "https://localhost:8080/"
        },
        "outputId": "68af942a-0d52-4741-e58e-183e58f01764"
      },
      "execution_count": 95,
      "outputs": [
        {
          "output_type": "execute_result",
          "data": {
            "text/plain": [
              "TfidfVectorizer(max_df=0.7, max_features=16000, min_df=5, ngram_range=(1, 3),\n",
              "                stop_words='english', strip_accents='unicode',\n",
              "                sublinear_tf=True, token_pattern='\\\\w+')"
            ]
          },
          "metadata": {},
          "execution_count": 95
        }
      ]
    },
    {
      "cell_type": "code",
      "source": [
        "X_train_tfidfmatrix = tfidf_vectorizer.transform(train['features'].values)\n",
        "X_test_tfidfmatrix = tfidf_vectorizer.transform(test['features'].values)\n",
        "\n",
        "\n",
        "y_train = train['genres'].apply(lambda x: x[0]).values"
      ],
      "metadata": {
        "id": "D5ARxBbNOgwz"
      },
      "execution_count": 102,
      "outputs": []
    },
    {
      "cell_type": "code",
      "source": [
        "X_test_tfidfmatrix.shape"
      ],
      "metadata": {
        "colab": {
          "base_uri": "https://localhost:8080/"
        },
        "id": "qrdcbnrQ0UUn",
        "outputId": "f4531d1a-2a72-4059-97ab-65b88dbebc80"
      },
      "execution_count": 103,
      "outputs": [
        {
          "output_type": "execute_result",
          "data": {
            "text/plain": [
              "(3989, 16000)"
            ]
          },
          "metadata": {},
          "execution_count": 103
        }
      ]
    },
    {
      "cell_type": "markdown",
      "source": [
        "##Evaluation\n",
        "to choose best model"
      ],
      "metadata": {
        "id": "4tv0-9nEPdKi"
      }
    },
    {
      "cell_type": "code",
      "source": [
        "from sklearn.model_selection import cross_val_predict\n",
        "from sklearn.model_selection import StratifiedKFold\n",
        "from sklearn.metrics import log_loss, accuracy_score"
      ],
      "metadata": {
        "id": "of6SEWuGPnYw"
      },
      "execution_count": 15,
      "outputs": []
    },
    {
      "cell_type": "code",
      "source": [
        "def evaluate(X, y, clf=None):\n",
        "    probas = cross_val_predict(clf, X, y, cv=StratifiedKFold(n_splits=5, random_state=8, shuffle=True), \n",
        "                              n_jobs=-1, method='predict_proba', verbose=2)\n",
        "    pred_indices = np.argmax(probas, axis=1)\n",
        "    classes = np.unique(y)\n",
        "    preds = classes[pred_indices]\n",
        "\n",
        "    return probas, preds;"
      ],
      "metadata": {
        "id": "Uet8nVn0Phx0"
      },
      "execution_count": 18,
      "outputs": []
    },
    {
      "cell_type": "markdown",
      "source": [
        "###LogisticRegression"
      ],
      "metadata": {
        "id": "GpaVY_AjTB5C"
      }
    },
    {
      "cell_type": "code",
      "source": [
        "from sklearn.linear_model import LogisticRegression\n",
        "probas, preds = evaluate(X_train_tfidfmatrix, y_train, clf=LogisticRegression())"
      ],
      "metadata": {
        "colab": {
          "base_uri": "https://localhost:8080/"
        },
        "id": "vSEtbg_8QVMo",
        "outputId": "f4eb6706-b39d-413b-89c7-78d25b92999b"
      },
      "execution_count": 104,
      "outputs": [
        {
          "output_type": "stream",
          "name": "stderr",
          "text": [
            "[Parallel(n_jobs=-1)]: Using backend LokyBackend with 2 concurrent workers.\n",
            "[Parallel(n_jobs=-1)]: Done   5 out of   5 | elapsed:   58.6s remaining:    0.0s\n",
            "[Parallel(n_jobs=-1)]: Done   5 out of   5 | elapsed:   58.6s finished\n"
          ]
        }
      ]
    },
    {
      "cell_type": "code",
      "source": [
        "print('Log loss: {}'.format(log_loss(y_train, probas)))\n",
        "print('Accuracy: {}'.format(accuracy_score(y_train, preds)))"
      ],
      "metadata": {
        "colab": {
          "base_uri": "https://localhost:8080/"
        },
        "id": "T1t0Lt0WRR4B",
        "outputId": "d0f6beec-3a1e-43d2-a5d3-7d29ccbf997e"
      },
      "execution_count": 107,
      "outputs": [
        {
          "output_type": "stream",
          "name": "stdout",
          "text": [
            "Log loss: 1.0802109126554862\n",
            "Accuracy: 0.7478061011282908\n"
          ]
        }
      ]
    },
    {
      "cell_type": "markdown",
      "source": [
        "###XGBClassifier"
      ],
      "metadata": {
        "id": "XJNMmRHaTIb_"
      }
    },
    {
      "cell_type": "code",
      "source": [
        "from xgboost import XGBClassifier\n",
        "probas, preds = evaluate(X_train_tfidfmatrix, y_train, clf=XGBClassifier())"
      ],
      "metadata": {
        "colab": {
          "base_uri": "https://localhost:8080/"
        },
        "id": "TY-q73PFTHhL",
        "outputId": "152e1441-780f-4414-ff6a-f845151960ff"
      },
      "execution_count": 31,
      "outputs": [
        {
          "output_type": "stream",
          "name": "stderr",
          "text": [
            "[Parallel(n_jobs=-1)]: Using backend LokyBackend with 2 concurrent workers.\n",
            "[Parallel(n_jobs=-1)]: Done   5 out of   5 | elapsed: 12.2min remaining:    0.0s\n",
            "[Parallel(n_jobs=-1)]: Done   5 out of   5 | elapsed: 12.2min finished\n"
          ]
        }
      ]
    },
    {
      "cell_type": "code",
      "source": [
        "print('Log loss: {}'.format(log_loss(y_train, probas)))\n",
        "print('Accuracy: {}'.format(accuracy_score(y_train, preds)))"
      ],
      "metadata": {
        "colab": {
          "base_uri": "https://localhost:8080/"
        },
        "id": "agcM2-SpTcLA",
        "outputId": "d835cfc5-ef1f-4b7f-a16d-fa6db6dccf18"
      },
      "execution_count": 32,
      "outputs": [
        {
          "output_type": "stream",
          "name": "stdout",
          "text": [
            "Log loss: 0.23453618130409049\n",
            "Accuracy: 0.9306310071040534\n"
          ]
        }
      ]
    },
    {
      "cell_type": "markdown",
      "source": [
        "###AdaBoostClassifier"
      ],
      "metadata": {
        "id": "1MZCB_lQTfy1"
      }
    },
    {
      "cell_type": "code",
      "source": [
        "from sklearn.ensemble import AdaBoostClassifier\n",
        "probas, preds = evaluate(X_train_tfidfmatrix, y_train, clf=AdaBoostClassifier())"
      ],
      "metadata": {
        "colab": {
          "base_uri": "https://localhost:8080/"
        },
        "id": "zywWZxNGTooU",
        "outputId": "5ed77be7-db13-4425-b4bc-b7332b4c5ebb"
      },
      "execution_count": 75,
      "outputs": [
        {
          "output_type": "stream",
          "name": "stderr",
          "text": [
            "[Parallel(n_jobs=-1)]: Using backend LokyBackend with 2 concurrent workers.\n",
            "[Parallel(n_jobs=-1)]: Done   5 out of   5 | elapsed:   45.2s remaining:    0.0s\n",
            "[Parallel(n_jobs=-1)]: Done   5 out of   5 | elapsed:   45.2s finished\n"
          ]
        }
      ]
    },
    {
      "cell_type": "code",
      "source": [
        "print('Log loss: {}'.format(log_loss(y_train, probas)))\n",
        "print('Accuracy: {}'.format(accuracy_score(y_train, preds)))"
      ],
      "metadata": {
        "colab": {
          "base_uri": "https://localhost:8080/"
        },
        "id": "XCDy4KqATzEC",
        "outputId": "46d1704f-c6bd-45d1-fe78-4a1d9561e1b8"
      },
      "execution_count": 76,
      "outputs": [
        {
          "output_type": "stream",
          "name": "stdout",
          "text": [
            "Log loss: 2.8483854299803135\n",
            "Accuracy: 0.4165371308228451\n"
          ]
        }
      ]
    },
    {
      "cell_type": "markdown",
      "source": [
        "###Naive Bayes"
      ],
      "metadata": {
        "id": "P1olscR5T0h2"
      }
    },
    {
      "cell_type": "code",
      "source": [
        "from sklearn.naive_bayes import MultinomialNB\n",
        "probas, preds = evaluate(X_train_tfidfmatrix, y_train, clf=MultinomialNB())"
      ],
      "metadata": {
        "colab": {
          "base_uri": "https://localhost:8080/"
        },
        "id": "YzyguxawT6Wc",
        "outputId": "21b529f6-e18e-4b10-d038-a1fa03b6202b"
      },
      "execution_count": 74,
      "outputs": [
        {
          "output_type": "stream",
          "name": "stderr",
          "text": [
            "[Parallel(n_jobs=-1)]: Using backend LokyBackend with 2 concurrent workers.\n",
            "[Parallel(n_jobs=-1)]: Done   5 out of   5 | elapsed:    0.6s remaining:    0.0s\n",
            "[Parallel(n_jobs=-1)]: Done   5 out of   5 | elapsed:    0.6s finished\n"
          ]
        }
      ]
    },
    {
      "cell_type": "code",
      "source": [
        "print('Log loss: {}'.format(log_loss(y_train, probas)))\n",
        "print('Accuracy: {}'.format(accuracy_score(y_train, preds)))"
      ],
      "metadata": {
        "colab": {
          "base_uri": "https://localhost:8080/"
        },
        "id": "1xI46fOqUGPv",
        "outputId": "0c04a592-8cbd-4511-f325-4e28ffc2e0db"
      },
      "execution_count": 36,
      "outputs": [
        {
          "output_type": "stream",
          "name": "stdout",
          "text": [
            "Log loss: 2.060708670085041\n",
            "Accuracy: 0.44637136091377627\n"
          ]
        }
      ]
    },
    {
      "cell_type": "markdown",
      "source": [
        "###SVM"
      ],
      "metadata": {
        "id": "B3dn3atSULck"
      }
    },
    {
      "cell_type": "code",
      "source": [
        "from sklearn import svm\n",
        "probas, preds = evaluate(X_train_tfidfmatrix, y_train, clf=svm.SVC(probability=True))"
      ],
      "metadata": {
        "colab": {
          "base_uri": "https://localhost:8080/"
        },
        "id": "UE1V7NW4UKVN",
        "outputId": "aece5132-b49a-4f80-da54-5ccd717dc61f"
      },
      "execution_count": 37,
      "outputs": [
        {
          "output_type": "stream",
          "name": "stderr",
          "text": [
            "[Parallel(n_jobs=-1)]: Using backend LokyBackend with 2 concurrent workers.\n",
            "[Parallel(n_jobs=-1)]: Done   5 out of   5 | elapsed: 104.7min remaining:    0.0s\n",
            "[Parallel(n_jobs=-1)]: Done   5 out of   5 | elapsed: 104.7min finished\n"
          ]
        }
      ]
    },
    {
      "cell_type": "code",
      "source": [
        "print('Log loss: {}'.format(log_loss(y_train, probas)))\n",
        "print('Accuracy: {}'.format(accuracy_score(y_train, preds)))"
      ],
      "metadata": {
        "id": "w5LzcZLiUfiJ"
      },
      "execution_count": null,
      "outputs": []
    },
    {
      "cell_type": "markdown",
      "source": [
        "##Training"
      ],
      "metadata": {
        "id": "s_7sqKyLUjrS"
      }
    },
    {
      "cell_type": "code",
      "source": [
        "clf = XGBClassifier()\n",
        "clf.fit(X_train_tfidfmatrix, y_train)"
      ],
      "metadata": {
        "colab": {
          "base_uri": "https://localhost:8080/"
        },
        "id": "OpDF5lPabuwS",
        "outputId": "d09afcb6-5412-4c68-e3f0-951c0e8d279c"
      },
      "execution_count": 139,
      "outputs": [
        {
          "output_type": "execute_result",
          "data": {
            "text/plain": [
              "XGBClassifier(objective='multi:softprob')"
            ]
          },
          "metadata": {},
          "execution_count": 139
        }
      ]
    },
    {
      "cell_type": "code",
      "source": [
        "#save model\n",
        "from joblib import dump, load\n",
        "dump(clf, 'recommended_model.joblib')"
      ],
      "metadata": {
        "colab": {
          "base_uri": "https://localhost:8080/"
        },
        "id": "NIZeJv9nebO4",
        "outputId": "36b8bd3b-1e52-4088-d5ce-78d8a77c248a"
      },
      "execution_count": 140,
      "outputs": [
        {
          "output_type": "execute_result",
          "data": {
            "text/plain": [
              "['recommended_model.joblib']"
            ]
          },
          "metadata": {},
          "execution_count": 140
        }
      ]
    }
  ]
}